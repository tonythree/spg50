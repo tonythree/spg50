{
 "cells": [
  {
   "cell_type": "code",
   "execution_count": 3,
   "metadata": {
    "colab": {},
    "colab_type": "code",
    "id": "2szOT5mg69Jy"
   },
   "outputs": [],
   "source": [
    "colab = False"
   ]
  },
  {
   "cell_type": "code",
   "execution_count": 4,
   "metadata": {
    "colab": {
     "base_uri": "https://localhost:8080/",
     "height": 122
    },
    "colab_type": "code",
    "id": "i40B5tgr0eIV",
    "outputId": "b540e56c-85d6-4e82-a0cb-f9f2412fa86c"
   },
   "outputs": [],
   "source": [
    "import pandas as pd\n",
    "import numpy as np\n",
    "import matplotlib.pyplot as plt\n",
    "%matplotlib inline\n",
    "if colab:\n",
    "  from google.colab import drive\n",
    "  drive.mount('/content/drive')\n",
    "  data = pd.read_excel('/content/drive/My Drive/Colab Notebooks/HackingToCureMichael_GENOMENON.xls')\n",
    "else:\n",
    "  data = pd.read_excel('data/HackingToCureMichael_GENOMENON.xls')"
   ]
  },
  {
   "cell_type": "code",
   "execution_count": 26,
   "metadata": {
    "colab": {
     "base_uri": "https://localhost:8080/",
     "height": 255
    },
    "colab_type": "code",
    "id": "dd7kET_M1IBi",
    "outputId": "c365b5bd-85fc-4b3e-ce20-7158933ae555"
   },
   "outputs": [],
   "source": [
    "# print (data.head())"
   ]
  },
  {
   "cell_type": "markdown",
   "metadata": {
    "colab_type": "text",
    "id": "r5NBkO9h4hsI"
   },
   "source": [
    "# 1.Visualization of the data from HakingToCureMichel_GENOME.xls. \n",
    "1. Number of mutations (variant_desc) per each gene (gene_symbol).\n",
    "2. Number of variant type (effect_type, acmg_call) per each gene (gene_symbol).\n",
    "3. Number of variant type (acmg_categories*) per each gene (gene_symbol). *meaning of abbreviation in acmg_explanations."
   ]
  },
  {
   "cell_type": "code",
   "execution_count": 18,
   "metadata": {
    "colab": {},
    "colab_type": "code",
    "id": "tG4SX0QoDPSN"
   },
   "outputs": [],
   "source": [
    "def getParameterPerGene(data, parameter, drop_duplicates=True):\n",
    "  df = data[['variant_id','gene_symbol',parameter]]\n",
    "  if drop_duplicates:\n",
    "    df = df.drop_duplicates()\n",
    "  gene_symbols = data.gene_symbol.unique()\n",
    "  genes = {}\n",
    "  parameter_len = {}\n",
    "  for symbol in gene_symbols:\n",
    "    genes[symbol] = df[df.gene_symbol == symbol]\n",
    "    parameter_len[symbol] = len(genes[symbol])\n",
    "  return genes, parameter_len\n",
    "\n",
    "def barPlot (dict_data, title, xlabel, ylabel, output_path='output/img/'):\n",
    "  plt.bar(range(len(dict_data)), dict_data.values(), align='center')\n",
    "  plt.xticks(range(len(dict_data)), list(dict_data.keys()))\n",
    "  plt.title(title)\n",
    "  plt.xlabel(xlabel)\n",
    "  plt.ylabel(ylabel)\n",
    "  plt.savefig(output_path + title +'.png', dpi=500)\n",
    "  plt.savefig(output_path + title +'.svg', format='svg', dpi=1200)\n",
    "  plt.show()"
   ]
  },
  {
   "cell_type": "code",
   "execution_count": 19,
   "metadata": {
    "colab": {
     "base_uri": "https://localhost:8080/",
     "height": 567
    },
    "colab_type": "code",
    "id": "hiBKezyY43v1",
    "outputId": "64e44f6c-653d-4bce-8738-dc2439f4ddd7"
   },
   "outputs": [
    {
     "data": {
      "image/png": "[encoded data removed]",
      "text/plain": [
       "<Figure size 432x288 with 1 Axes>"
      ]
     },
     "metadata": {
      "needs_background": "light"
     },
     "output_type": "display_data"
    },
    {
     "name": "stdout",
     "output_type": "stream",
     "text": [
      "          variant_id gene_symbol variant_desc\n",
      "87     ap4m1:p.C319R       AP4M1      p.C319R\n",
      "88     ap4m1:p.E193K       AP4M1      p.E193K\n",
      "89      ap4m1:p.G63G       AP4M1       p.G63G\n",
      "90     ap4m1:p.R306X       AP4M1      p.R306X\n",
      "91     ap4m1:p.R318X       AP4M1      p.R318X\n",
      "92     ap4m1:p.R338X       AP4M1      p.R338X\n",
      "93    ap4m1:p.R429fs       AP4M1     p.R429fs\n",
      "94     ap4m1:p.R441X       AP4M1      p.R441X\n",
      "95    ap4m1:p.V174fs       AP4M1     p.V174fs\n",
      "96     ap4m1:p.Y65fs       AP4M1      p.Y65fs\n",
      "97     ap4m1:rs13309       AP4M1      rs13309\n",
      "98   ap4m1:rs1534310       AP4M1    rs1534310\n",
      "99   ap4m1:rs2293479       AP4M1    rs2293479\n",
      "100  ap4m1:rs4729577       AP4M1    rs4729577\n",
      "101   ap4m1:rs999885       AP4M1     rs999885\n"
     ]
    }
   ],
   "source": [
    "#1. Number of mutations (variant_desc) per each gene (gene_symbol).\n",
    "\n",
    "variant, variant_count = getParameterPerGene(data, 'variant_desc')\n",
    "barPlot(dict_data = variant_count,\n",
    "        title = 'Variants per Gene Symbol',\n",
    "        xlabel = 'Gene symbol', \n",
    "        ylabel = '# variants')\n",
    "\n",
    "print (variant['AP4M1'])"
   ]
  },
  {
   "cell_type": "code",
   "execution_count": 20,
   "metadata": {
    "colab": {
     "base_uri": "https://localhost:8080/",
     "height": 398
    },
    "colab_type": "code",
    "id": "GA8noElPEp8B",
    "outputId": "390a122f-7f1a-4370-9ca8-a15b5ff8b421"
   },
   "outputs": [
    {
     "data": {
      "image/png": "[encoded data removed]",
      "text/plain": [
       "<Figure size 432x288 with 1 Axes>"
      ]
     },
     "metadata": {
      "needs_background": "light"
     },
     "output_type": "display_data"
    },
    {
     "name": "stdout",
     "output_type": "stream",
     "text": [
      "          variant_id gene_symbol          effect_type\n",
      "87     ap4m1:p.C319R       AP4M1         substitution\n",
      "88     ap4m1:p.E193K       AP4M1         substitution\n",
      "89      ap4m1:p.G63G       AP4M1           synonymous\n",
      "90     ap4m1:p.R306X       AP4M1             nonsense\n",
      "91     ap4m1:p.R318X       AP4M1             nonsense\n",
      "92     ap4m1:p.R338X       AP4M1             nonsense\n",
      "93    ap4m1:p.R429fs       AP4M1           frameshift\n",
      "94     ap4m1:p.R441X       AP4M1             nonsense\n",
      "95    ap4m1:p.V174fs       AP4M1           frameshift\n",
      "96     ap4m1:p.Y65fs       AP4M1           frameshift\n",
      "97     ap4m1:rs13309       AP4M1  untranslated_region\n",
      "98   ap4m1:rs1534310       AP4M1  untranslated_region\n",
      "99   ap4m1:rs2293479       AP4M1             intronic\n",
      "100  ap4m1:rs4729577       AP4M1             intronic\n",
      "101   ap4m1:rs999885       AP4M1             intronic\n"
     ]
    }
   ],
   "source": [
    "# 2. Number of variant type (effect_type, acmg_call) per each gene (gene_symbol).\n",
    "\n",
    "effect, effect_count = getParameterPerGene(data, 'effect_type')\n",
    "barPlot(dict_data = effect_count, \n",
    "        title = 'Effect Types per Gene Symbol',\n",
    "        xlabel = 'Gene symbol', \n",
    "        ylabel = '# different effect_types')\n",
    "\n",
    "print (effect['AP4M1'])"
   ]
  },
  {
   "cell_type": "code",
   "execution_count": 21,
   "metadata": {
    "colab": {
     "base_uri": "https://localhost:8080/",
     "height": 364
    },
    "colab_type": "code",
    "id": "91TpvxMKyj_4",
    "outputId": "12bd5c53-6c44-49cb-97a9-db57a6f8ade8"
   },
   "outputs": [
    {
     "data": {
      "image/png": "[encoded data removed]",
      "text/plain": [
       "<Figure size 432x288 with 1 Axes>"
      ]
     },
     "metadata": {
      "needs_background": "light"
     },
     "output_type": "display_data"
    },
    {
     "name": "stdout",
     "output_type": "stream",
     "text": [
      "          variant_id gene_symbol          acmg_call\n",
      "87     ap4m1:p.C319R       AP4M1                vus\n",
      "88     ap4m1:p.E193K       AP4M1  likely_pathogenic\n",
      "89      ap4m1:p.G63G       AP4M1                vus\n",
      "90     ap4m1:p.R306X       AP4M1         pathogenic\n",
      "91     ap4m1:p.R318X       AP4M1         pathogenic\n",
      "92     ap4m1:p.R338X       AP4M1         pathogenic\n",
      "93    ap4m1:p.R429fs       AP4M1  likely_pathogenic\n",
      "94     ap4m1:p.R441X       AP4M1  likely_pathogenic\n",
      "95    ap4m1:p.V174fs       AP4M1         pathogenic\n",
      "96     ap4m1:p.Y65fs       AP4M1         pathogenic\n",
      "97     ap4m1:rs13309       AP4M1             benign\n",
      "98   ap4m1:rs1534310       AP4M1             benign\n",
      "99   ap4m1:rs2293479       AP4M1             benign\n",
      "100  ap4m1:rs4729577       AP4M1             benign\n",
      "101   ap4m1:rs999885       AP4M1             benign\n"
     ]
    }
   ],
   "source": [
    "# 2. Number of variant type (effect_type, acmg_call) per each gene (gene_symbol).\n",
    "\n",
    "acmg, acmg_count = getParameterPerGene(data, 'acmg_call')\n",
    "barPlot(dict_data = acmg_count, \n",
    "        title = 'acgm per Gene Symbol',\n",
    "        xlabel = 'Gene symbol', \n",
    "        ylabel = '# acmg')\n",
    "print (acmg['AP4M1'])"
   ]
  },
  {
   "cell_type": "code",
   "execution_count": 28,
   "metadata": {
    "colab": {
     "base_uri": "https://localhost:8080/",
     "height": 432
    },
    "colab_type": "code",
    "id": "mYc46nClHwk1",
    "outputId": "6e1a93f8-987d-4372-eea0-dbc4eda1099a"
   },
   "outputs": [
    {
     "data": {
      "image/png": "[encoded data removed]",
      "text/plain": [
       "<Figure size 432x288 with 1 Axes>"
      ]
     },
     "metadata": {
      "needs_background": "light"
     },
     "output_type": "display_data"
    },
    {
     "name": "stdout",
     "output_type": "stream",
     "text": [
      "          variant_id gene_symbol                acmg_categories\n",
      "87     ap4m1:p.C319R       AP4M1                  pm2, pp1, pp2\n",
      "88     ap4m1:p.E193K       AP4M1            ps4m, pm2, pp2, ppc\n",
      "89      ap4m1:p.G63G       AP4M1              pm2, ppc_het, bp7\n",
      "90     ap4m1:p.R306X       AP4M1                 pvs1, pm2, pp1\n",
      "91     ap4m1:p.R318X       AP4M1  pvs1, pm2, pp1, ppc, ppc_homo\n",
      "92     ap4m1:p.R338X       AP4M1            pvs1, pm2, pp1, ppc\n",
      "93    ap4m1:p.R429fs       AP4M1                      pvs1, pm2\n",
      "94     ap4m1:p.R441X       AP4M1                      pvs1, pm2\n",
      "95    ap4m1:p.V174fs       AP4M1                 pvs1, pm2, pp1\n",
      "96     ap4m1:p.Y65fs       AP4M1            pvs1, pm2, pp1, ppc\n",
      "97     ap4m1:rs13309       AP4M1                       bs1, ba1\n",
      "98   ap4m1:rs1534310       AP4M1                       bs1, ba1\n",
      "99   ap4m1:rs2293479       AP4M1                       bs1, ba1\n",
      "100  ap4m1:rs4729577       AP4M1                       bs1, ba1\n",
      "101   ap4m1:rs999885       AP4M1                       bs1, ba1\n"
     ]
    }
   ],
   "source": [
    "# 3. Number of variant type (acmg_categories*) per each gene (gene_symbol). \n",
    "# *meaning of abbreviation in acmg_explanations.\n",
    "\n",
    "acmg_cat, acmg_cat_count = getParameterPerGene(data, 'acmg_categories')\n",
    "barPlot(dict_data = acmg_cat_count, \n",
    "        title = 'acmg categories per Gene Symbol',\n",
    "        xlabel = 'Gene symbol', \n",
    "        ylabel = '# acmg categories')\n",
    "print (acmg_cat['AP4M1'])"
   ]
  },
  {
   "cell_type": "code",
   "execution_count": 29,
   "metadata": {
    "colab": {
     "base_uri": "https://localhost:8080/",
     "height": 272
    },
    "colab_type": "code",
    "id": "j6etpqTeIX03",
    "outputId": "87708986-b454-442e-d6c3-ddf3303b57ad"
   },
   "outputs": [
    {
     "name": "stdout",
     "output_type": "stream",
     "text": [
      "          variant_id gene_symbol                  gnomad_alleles\n",
      "87     ap4m1:p.C319R       AP4M1                  7-99703607-T-C\n",
      "88     ap4m1:p.E193K       AP4M1                             NaN\n",
      "89      ap4m1:p.G63G       AP4M1                  7-99700339-C-T\n",
      "90     ap4m1:p.R306X       AP4M1                  7-99703149-C-T\n",
      "91     ap4m1:p.R318X       AP4M1                  7-99703604-C-T\n",
      "92     ap4m1:p.R338X       AP4M1                  7-99703901-C-T\n",
      "93    ap4m1:p.R429fs       AP4M1                             NaN\n",
      "94     ap4m1:p.R441X       AP4M1                  7-99704464-C-T\n",
      "95    ap4m1:p.V174fs       AP4M1             7-99701284-G-GCCGCC\n",
      "96     ap4m1:p.Y65fs       AP4M1                7-99700338-GCC-G\n",
      "97     ap4m1:rs13309       AP4M1                  7-99704796-A-T\n",
      "98   ap4m1:rs1534310       AP4M1                  7-99699169-A-T\n",
      "99   ap4m1:rs2293479       AP4M1  7-99703958-T-C\\n7-99703958-T-G\n",
      "100  ap4m1:rs4729577       AP4M1                  7-99701640-T-C\n",
      "101   ap4m1:rs999885       AP4M1                  7-99701176-G-A\n"
     ]
    }
   ],
   "source": [
    "gnomad_alleles, gnomad_alleles_count = getParameterPerGene(data, 'gnomad_alleles')\n",
    "print (gnomad_alleles['AP4M1'])"
   ]
  },
  {
   "cell_type": "code",
   "execution_count": 30,
   "metadata": {
    "colab": {
     "base_uri": "https://localhost:8080/",
     "height": 272
    },
    "colab_type": "code",
    "id": "6S2BKpSsMr4z",
    "outputId": "c14fbed1-a817-41d2-8881-be23e76c9b13"
   },
   "outputs": [
    {
     "name": "stdout",
     "output_type": "stream",
     "text": [
      "          variant_id gene_symbol              literature_alleles\n",
      "87     ap4m1:p.C319R       AP4M1                  7-99703607-T-C\n",
      "88     ap4m1:p.E193K       AP4M1                             NaN\n",
      "89      ap4m1:p.G63G       AP4M1                  7-99700339-C-T\n",
      "90     ap4m1:p.R306X       AP4M1                  7-99703149-C-T\n",
      "91     ap4m1:p.R318X       AP4M1                  7-99703604-C-T\n",
      "92     ap4m1:p.R338X       AP4M1                  7-99703901-C-T\n",
      "93    ap4m1:p.R429fs       AP4M1                 7-99704428-AG-A\n",
      "94     ap4m1:p.R441X       AP4M1                  7-99704464-C-T\n",
      "95    ap4m1:p.V174fs       AP4M1                             NaN\n",
      "96     ap4m1:p.Y65fs       AP4M1                7-99700342-CTA-C\n",
      "97     ap4m1:rs13309       AP4M1                  7-99704796-A-T\n",
      "98   ap4m1:rs1534310       AP4M1                  7-99699169-A-T\n",
      "99   ap4m1:rs2293479       AP4M1  7-99703958-T-C\\n7-99703958-T-G\n",
      "100  ap4m1:rs4729577       AP4M1                  7-99701640-T-C\n",
      "101   ap4m1:rs999885       AP4M1                  7-99701176-G-A\n"
     ]
    }
   ],
   "source": [
    "literature_alleles, literature_alleles_count = getParameterPerGene(data, 'literature_alleles')\n",
    "print (literature_alleles['AP4M1'])"
   ]
  },
  {
   "cell_type": "code",
   "execution_count": 31,
   "metadata": {
    "colab": {},
    "colab_type": "code",
    "id": "nl1hC1TwNAl6"
   },
   "outputs": [],
   "source": [
    "csv_path = 'output/csv/'\n",
    "effect['AP4M1'].to_csv(csv_path + 'effect.csv')\n",
    "variant['AP4M1'].to_csv(csv_path + 'variant.csv')\n",
    "literature_alleles['AP4M1'].to_csv(csv_path + 'literature_alleles.csv')\n",
    "gnomad_alleles['AP4M1'].to_csv(csv_path + 'gnomad_alleles.csv')\n",
    "acmg_cat['AP4M1'].to_csv(csv_path + 'acmg.csv')"
   ]
  },
  {
   "cell_type": "code",
   "execution_count": 0,
   "metadata": {
    "colab": {},
    "colab_type": "code",
    "id": "zI5yHUFYOWhz"
   },
   "outputs": [],
   "source": []
  }
 ],
 "metadata": {
  "colab": {
   "collapsed_sections": [],
   "name": "spg50.ipynb",
   "provenance": [],
   "toc_visible": true
  },
  "kernelspec": {
   "display_name": "Python 3",
   "language": "python",
   "name": "python3"
  },
  "language_info": {
   "codemirror_mode": {
    "name": "ipython",
    "version": 3
   },
   "file_extension": ".py",
   "mimetype": "text/x-python",
   "name": "python",
   "nbconvert_exporter": "python",
   "pygments_lexer": "ipython3",
   "version": "3.7.6"
  }
 },
 "nbformat": 4,
 "nbformat_minor": 1
}
